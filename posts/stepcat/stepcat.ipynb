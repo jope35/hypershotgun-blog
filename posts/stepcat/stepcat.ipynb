{
 "cells": [
  {
   "cell_type": "raw",
   "metadata": {},
   "source": [
    "---\n",
    "title: \"baby steps: tuneing big model one step at a time\"\n",
    "author: \"Joost de Theije + LLM\"\n",
    "subtitle: \"stepwise tuning of gradient boosting models\"\n",
    "date: \"03/14/2024\"\n",
    "image: \"\"\n",
    "abstract: \"\"\n",
    "format:\n",
    "  html: default\n",
    "draft: false\n",
    "---"
   ]
  },
  {
   "cell_type": "markdown",
   "metadata": {},
   "source": [
    "hello world 👋 "
   ]
  },
  {
   "cell_type": "code",
   "execution_count": 3,
   "metadata": {},
   "outputs": [],
   "source": [
    "import optuna\n",
    "from catboost import CatBoostClassifier\n",
    "from sklearn.datasets import fetch_openml\n",
    "from sklearn.model_selection import train_test_split"
   ]
  },
  {
   "cell_type": "code",
   "execution_count": 41,
   "metadata": {},
   "outputs": [],
   "source": [
    "ID = 1240\n",
    "X, y = fetch_openml(data_id=ID, data_home=f\"openml_download_{ID}\", return_X_y=True)\n",
    "\n",
    "X = X.sample(frac=0.2)\n",
    "X = X.dropna(axis=0, how=\"any\")\n",
    "y = y.loc[X.index]\n",
    "X_train, X_test, y_train, y_test = train_test_split(X, y, test_size=0.2, stratify=y)"
   ]
  },
  {
   "cell_type": "code",
   "execution_count": 72,
   "metadata": {},
   "outputs": [],
   "source": [
    "classifier = CatBoostClassifier(\n",
    "    iterations=256,\n",
    "    loss_function=\"Logloss\",\n",
    "    eval_metric=\"F1\",\n",
    "    metric_period=16,\n",
    "    cat_features=list(X.select_dtypes(include=\"category\").columns),\n",
    ")"
   ]
  },
  {
   "cell_type": "code",
   "execution_count": 88,
   "metadata": {},
   "outputs": [
    {
     "data": {
      "text/plain": [
       "<catboost.core.CatBoostClassifier at 0x36b73a240>"
      ]
     },
     "execution_count": 88,
     "metadata": {},
     "output_type": "execute_result"
    }
   ],
   "source": [
    "classifier.fit(X_train, y_train, eval_set=(X_test, y_test), metric_period=16, verbose=False)"
   ]
  },
  {
   "cell_type": "markdown",
   "metadata": {},
   "source": [
    "1. Tree parameters\n",
    "    * Depth\n",
    "    * min_data_in_leaf\n",
    "    * grow_policy\n",
    "2. Sampling parameters\n",
    "    * Subsample\n",
    "    * colsample_bylevel\n",
    "    * sampling_frquency\n",
    "3. Regularization parameters\n",
    "    * penalties_coefficient\n",
    "    * first_feature_use_penalties\n",
    "    * leaf_estimation_backtracking\n",
    "4. Learning rate\n",
    "    * Iterations\n",
    "    * learning_rate\n",
    "    * model_shrink_rate\n",
    "    * boost_from_average"
   ]
  },
  {
   "cell_type": "markdown",
   "metadata": {},
   "source": [
    "- what are hyperparams, and why tune\n",
    "- gridsearch, randomsearch, lhs search -> pro cons of each\n",
    "- optuna in one go\n",
    "- optuna in steps \n",
    "- compare time should be less, for same or better performance "
   ]
  }
 ],
 "metadata": {
  "kernelspec": {
   "display_name": "hypershotgun",
   "language": "python",
   "name": "python3"
  },
  "language_info": {
   "codemirror_mode": {
    "name": "ipython",
    "version": 3
   },
   "file_extension": ".py",
   "mimetype": "text/x-python",
   "name": "python",
   "nbconvert_exporter": "python",
   "pygments_lexer": "ipython3",
   "version": "3.12.2"
  }
 },
 "nbformat": 4,
 "nbformat_minor": 2
}
