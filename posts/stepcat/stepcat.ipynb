{
 "cells": [
  {
   "cell_type": "raw",
   "metadata": {},
   "source": [
    "---\n",
    "title: \"baby steps: tuneing big model one step at a time\"\n",
    "author: \"Joost de Theije + LLM\"\n",
    "subtitle: \"stepwise tuning of gradient boosting models\"\n",
    "date: \"03/14/2024\"\n",
    "image: \"\"\n",
    "abstract: \"\"\n",
    "format:\n",
    "  html: default\n",
    "draft: true\n",
    "---"
   ]
  },
  {
   "cell_type": "markdown",
   "metadata": {},
   "source": [
    "hello world 👋 "
   ]
  },
  {
   "cell_type": "code",
   "execution_count": 18,
   "metadata": {},
   "outputs": [],
   "source": [
    "import time\n",
    "\n",
    "import optuna\n",
    "from catboost import CatBoostClassifier\n",
    "from sklearn.datasets import fetch_openml\n",
    "from sklearn.model_selection import train_test_split"
   ]
  },
  {
   "cell_type": "code",
   "execution_count": 2,
   "metadata": {},
   "outputs": [],
   "source": [
    "# fetch data set\n",
    "ID = 1240\n",
    "X, y = fetch_openml(data_id=ID, data_home=f\"openml_download_{ID}\", return_X_y=True)\n",
    "\n",
    "# downsample and create a stratified train test split\n",
    "X = X.sample(frac=0.2)\n",
    "X = X.dropna(axis=0, how=\"any\")\n",
    "y = y.loc[X.index]\n",
    "X_train, X_test, y_train, y_test = train_test_split(X, y, test_size=0.2, stratify=y)"
   ]
  },
  {
   "cell_type": "code",
   "execution_count": 3,
   "metadata": {},
   "outputs": [],
   "source": [
    "classifier = CatBoostClassifier(\n",
    "    iterations=32,\n",
    "    loss_function=\"Logloss\",\n",
    "    eval_metric=\"F1\",\n",
    "    metric_period=16,\n",
    "    cat_features=list(X.select_dtypes(include=\"category\").columns),\n",
    ")"
   ]
  },
  {
   "cell_type": "code",
   "execution_count": 4,
   "metadata": {},
   "outputs": [
    {
     "data": {
      "text/plain": [
       "<catboost.core.CatBoostClassifier at 0x10b87b2b0>"
      ]
     },
     "execution_count": 4,
     "metadata": {},
     "output_type": "execute_result"
    }
   ],
   "source": [
    "classifier.fit(\n",
    "    X_train, y_train, eval_set=(X_test, y_test), metric_period=16, verbose=False\n",
    ")"
   ]
  },
  {
   "cell_type": "code",
   "execution_count": 5,
   "metadata": {},
   "outputs": [
    {
     "data": {
      "text/plain": [
       "0.8007828136814482"
      ]
     },
     "execution_count": 5,
     "metadata": {},
     "output_type": "execute_result"
    }
   ],
   "source": [
    "classifier.get_best_score().get(\"validation\").get(\"F1\")"
   ]
  },
  {
   "cell_type": "markdown",
   "metadata": {},
   "source": [
    "1. Tree parameters\n",
    "    * Depth\n",
    "    * min_data_in_leaf\n",
    "    * grow_policy\n",
    "2. Sampling parameters\n",
    "    * Subsample\n",
    "    * colsample_bylevel\n",
    "    * sampling_frquency\n",
    "3. Regularization parameters\n",
    "    * penalties_coefficient\n",
    "    * first_feature_use_penalties\n",
    "    * leaf_estimation_backtracking\n",
    "4. Learning rate\n",
    "    * Iterations\n",
    "    * learning_rate\n",
    "    * model_shrink_rate\n",
    "    * boost_from_average"
   ]
  },
  {
   "cell_type": "markdown",
   "metadata": {},
   "source": [
    "- what are hyperparams, and why tune\n",
    "- gridsearch, randomsearch, lhs search -> pro cons of each\n",
    "- optuna in one go\n",
    "- optuna in steps \n",
    "- compare time should be less, for same or better performance "
   ]
  },
  {
   "cell_type": "code",
   "execution_count": 6,
   "metadata": {},
   "outputs": [],
   "source": [
    "def objective(trial):\n",
    "    param = {\n",
    "        \"depth\": trial.suggest_int(\"depth\", 1, 15),\n",
    "        \"iterations\": trial.suggest_int(\"iterations\", 8, 128),\n",
    "    }\n",
    "\n",
    "    cbc = CatBoostClassifier(\n",
    "        **param,\n",
    "        eval_metric=\"F1\",\n",
    "        cat_features=list(X.select_dtypes(include=\"category\").columns),\n",
    "    )\n",
    "    cbc.fit(\n",
    "        X_train, y_train, eval_set=(X_test, y_test), metric_period=16, verbose=False\n",
    "    )\n",
    "\n",
    "    return cbc.get_best_score().get(\"validation\").get(\"F1\")"
   ]
  },
  {
   "cell_type": "code",
   "execution_count": 7,
   "metadata": {},
   "outputs": [
    {
     "name": "stderr",
     "output_type": "stream",
     "text": [
      "[I 2024-03-21 22:54:51,897] A new study created in memory with name: no-name-314011ed-0df5-4293-9531-d61007dad81e\n",
      "[I 2024-03-21 22:55:04,378] Trial 0 finished with value: 0.8108783857879154 and parameters: {'depth': 12, 'iterations': 99}. Best is trial 0 with value: 0.8108783857879154.\n",
      "[I 2024-03-21 22:55:06,886] Trial 1 finished with value: 0.768937097172629 and parameters: {'depth': 1, 'iterations': 113}. Best is trial 0 with value: 0.8108783857879154.\n",
      "[I 2024-03-21 22:55:10,298] Trial 2 finished with value: 0.796464479063087 and parameters: {'depth': 2, 'iterations': 124}. Best is trial 0 with value: 0.8108783857879154.\n",
      "[I 2024-03-21 22:55:11,856] Trial 3 finished with value: 0.7971442639094042 and parameters: {'depth': 11, 'iterations': 16}. Best is trial 0 with value: 0.8108783857879154.\n",
      "[I 2024-03-21 22:55:21,657] Trial 4 finished with value: 0.8099571266077522 and parameters: {'depth': 12, 'iterations': 83}. Best is trial 0 with value: 0.8108783857879154.\n",
      "[I 2024-03-21 22:55:25,516] Trial 5 finished with value: 0.7995272500222995 and parameters: {'depth': 3, 'iterations': 126}. Best is trial 0 with value: 0.8108783857879154.\n",
      "[I 2024-03-21 22:55:27,284] Trial 6 finished with value: 0.8023090586145648 and parameters: {'depth': 6, 'iterations': 38}. Best is trial 0 with value: 0.8108783857879154.\n",
      "[I 2024-03-21 22:55:29,007] Trial 7 finished with value: 0.7947800182299193 and parameters: {'depth': 3, 'iterations': 54}. Best is trial 0 with value: 0.8108783857879154.\n",
      "[I 2024-03-21 22:56:05,942] Trial 8 finished with value: 0.8076261779876813 and parameters: {'depth': 15, 'iterations': 70}. Best is trial 0 with value: 0.8108783857879154.\n",
      "[I 2024-03-21 22:56:09,629] Trial 9 finished with value: 0.7996608581182089 and parameters: {'depth': 3, 'iterations': 115}. Best is trial 0 with value: 0.8108783857879154.\n"
     ]
    }
   ],
   "source": [
    "study = optuna.create_study(direction=\"maximize\")\n",
    "study.optimize(objective, n_trials=10, timeout=120)"
   ]
  },
  {
   "cell_type": "code",
   "execution_count": 11,
   "metadata": {},
   "outputs": [
    {
     "data": {
      "text/plain": [
       "{'depth': 12, 'iterations': 99}"
      ]
     },
     "execution_count": 11,
     "metadata": {},
     "output_type": "execute_result"
    }
   ],
   "source": [
    "study.best_params"
   ]
  },
  {
   "cell_type": "code",
   "execution_count": 10,
   "metadata": {},
   "outputs": [],
   "source": [
    "from functools import partial"
   ]
  },
  {
   "cell_type": "code",
   "execution_count": 59,
   "metadata": {},
   "outputs": [],
   "source": [
    "def obj(trial, step: int) -> float:\n",
    "    all_step_param = {\n",
    "        1: {\n",
    "            \"depth\": trial.suggest_int(name=\"depth\", low=1, high=15),\n",
    "            \"iterations\": trial.suggest_int(\"iterations\", 8, 128),\n",
    "        },\n",
    "        2: {\n",
    "            \"subsample\": trial.suggest_float(\"subsample\", 0.01, 1.0),\n",
    "            \"colsample_bylevel\": trial.suggest_float(\"colsample_bylevel\", 0.01, 1.0),\n",
    "        },\n",
    "        # 3: {\n",
    "        #     \"min_data_in_leaf\": trial.suggest_int(\"min_data_in_leaf\", 1, 100),\n",
    "        #     \"bagging_temperature\": trial.suggest_float(\"bagging_temperature\", 0.01, 1),\n",
    "        # },\n",
    "        # 4: {\n",
    "        #     \"learning_rate\": trial.suggest_float(\"learning_rate\", 1e-3, 0.1, log=True),\n",
    "        # },\n",
    "    }\n",
    "    current_params = all_step_param[step]\n",
    "\n",
    "    print(current_params)\n",
    "    cbc = CatBoostClassifier(\n",
    "        **current_params,\n",
    "        eval_metric=\"F1\",\n",
    "        cat_features=list(X.select_dtypes(include=\"category\").columns),\n",
    "    )\n",
    "    cbc.fit(\n",
    "        X_train, y_train, eval_set=(X_test, y_test), metric_period=16, verbose=False\n",
    "    )\n",
    "\n",
    "    return cbc.get_best_score().get(\"validation\").get(\"F1\")"
   ]
  },
  {
   "cell_type": "code",
   "execution_count": 60,
   "metadata": {},
   "outputs": [
    {
     "name": "stderr",
     "output_type": "stream",
     "text": [
      "[I 2024-03-22 09:05:05,853] A new study created in memory with name: no-name-b152768d-030c-4422-bcbe-aed5d4a71de4\n"
     ]
    },
    {
     "name": "stdout",
     "output_type": "stream",
     "text": [
      "{'depth': 8, 'iterations': 69}\n"
     ]
    },
    {
     "name": "stderr",
     "output_type": "stream",
     "text": [
      "[I 2024-03-22 09:05:09,896] Trial 0 finished with value: 0.8063223508459484 and parameters: {'depth': 8, 'iterations': 69, 'subsample': 0.9414831839310278, 'colsample_bylevel': 0.27536204961454747}. Best is trial 0 with value: 0.8063223508459484.\n"
     ]
    },
    {
     "name": "stdout",
     "output_type": "stream",
     "text": [
      "{'depth': 14, 'iterations': 105}\n"
     ]
    },
    {
     "name": "stderr",
     "output_type": "stream",
     "text": [
      "[I 2024-03-22 09:05:40,828] Trial 1 finished with value: 0.8092867546357688 and parameters: {'depth': 14, 'iterations': 105, 'subsample': 0.8648713805808682, 'colsample_bylevel': 0.15102405478691028}. Best is trial 1 with value: 0.8092867546357688.\n"
     ]
    },
    {
     "name": "stdout",
     "output_type": "stream",
     "text": [
      "{'depth': 3, 'iterations': 103}\n"
     ]
    },
    {
     "name": "stderr",
     "output_type": "stream",
     "text": [
      "[I 2024-03-22 09:05:44,118] Trial 2 finished with value: 0.7990014710471182 and parameters: {'depth': 3, 'iterations': 103, 'subsample': 0.4314496319319453, 'colsample_bylevel': 0.6431281686858351}. Best is trial 1 with value: 0.8092867546357688.\n"
     ]
    },
    {
     "name": "stdout",
     "output_type": "stream",
     "text": [
      "{'depth': 4, 'iterations': 64}\n"
     ]
    },
    {
     "name": "stderr",
     "output_type": "stream",
     "text": [
      "[I 2024-03-22 09:05:46,510] Trial 3 finished with value: 0.7993593736097518 and parameters: {'depth': 4, 'iterations': 64, 'subsample': 0.7413468355755314, 'colsample_bylevel': 0.100893458730708}. Best is trial 1 with value: 0.8092867546357688.\n"
     ]
    },
    {
     "name": "stdout",
     "output_type": "stream",
     "text": [
      "{'depth': 8, 'iterations': 110}\n"
     ]
    },
    {
     "name": "stderr",
     "output_type": "stream",
     "text": [
      "[I 2024-03-22 09:05:52,613] Trial 4 finished with value: 0.8073264296959886 and parameters: {'depth': 8, 'iterations': 110, 'subsample': 0.13932050964558507, 'colsample_bylevel': 0.2925627760243539}. Best is trial 1 with value: 0.8092867546357688.\n"
     ]
    },
    {
     "name": "stdout",
     "output_type": "stream",
     "text": [
      "{'depth': 6, 'iterations': 123}\n"
     ]
    },
    {
     "name": "stderr",
     "output_type": "stream",
     "text": [
      "[I 2024-03-22 09:05:58,186] Trial 5 finished with value: 0.8047563908435023 and parameters: {'depth': 6, 'iterations': 123, 'subsample': 0.228029402223525, 'colsample_bylevel': 0.5903726744226127}. Best is trial 1 with value: 0.8092867546357688.\n"
     ]
    },
    {
     "name": "stdout",
     "output_type": "stream",
     "text": [
      "{'depth': 6, 'iterations': 84}\n"
     ]
    },
    {
     "name": "stderr",
     "output_type": "stream",
     "text": [
      "[I 2024-03-22 09:06:01,992] Trial 6 finished with value: 0.8057958091841284 and parameters: {'depth': 6, 'iterations': 84, 'subsample': 0.42474748869421164, 'colsample_bylevel': 0.14416873825783233}. Best is trial 1 with value: 0.8092867546357688.\n"
     ]
    },
    {
     "name": "stdout",
     "output_type": "stream",
     "text": [
      "{'depth': 5, 'iterations': 100}\n"
     ]
    },
    {
     "name": "stderr",
     "output_type": "stream",
     "text": [
      "[I 2024-03-22 09:06:06,185] Trial 7 finished with value: 0.8037711515798368 and parameters: {'depth': 5, 'iterations': 100, 'subsample': 0.31998511746479846, 'colsample_bylevel': 0.34242612117337207}. Best is trial 1 with value: 0.8092867546357688.\n"
     ]
    },
    {
     "name": "stdout",
     "output_type": "stream",
     "text": [
      "{'depth': 7, 'iterations': 109}\n"
     ]
    },
    {
     "name": "stderr",
     "output_type": "stream",
     "text": [
      "[I 2024-03-22 09:06:11,623] Trial 8 finished with value: 0.8068270321992034 and parameters: {'depth': 7, 'iterations': 109, 'subsample': 0.3579087218435869, 'colsample_bylevel': 0.31993839733157176}. Best is trial 1 with value: 0.8092867546357688.\n"
     ]
    },
    {
     "name": "stdout",
     "output_type": "stream",
     "text": [
      "{'depth': 7, 'iterations': 93}\n"
     ]
    },
    {
     "name": "stderr",
     "output_type": "stream",
     "text": [
      "[I 2024-03-22 09:06:16,291] Trial 9 finished with value: 0.805559267673393 and parameters: {'depth': 7, 'iterations': 93, 'subsample': 0.41784346177256604, 'colsample_bylevel': 0.8383802938332553}. Best is trial 1 with value: 0.8092867546357688.\n"
     ]
    },
    {
     "data": {
      "text/plain": [
       "'70.44 sec'"
      ]
     },
     "execution_count": 60,
     "metadata": {},
     "output_type": "execute_result"
    }
   ],
   "source": [
    "start = time.time()\n",
    "\n",
    "study = optuna.create_study(direction=\"maximize\")\n",
    "obj_1 = partial(obj, step=1)\n",
    "study.optimize(obj_1, n_trials=10, timeout=120)\n",
    "\n",
    "end = time.time()\n",
    "\n",
    "elapsed_time = []\n",
    "elapsed_time.append(end - start)\n",
    "\n",
    "f\"{end-start:.2f} sec\""
   ]
  },
  {
   "cell_type": "code",
   "execution_count": 17,
   "metadata": {},
   "outputs": [
    {
     "name": "stdout",
     "output_type": "stream",
     "text": [
      "CPU times: user 2 µs, sys: 1e+03 ns, total: 3 µs\n",
      "Wall time: 5.96 µs\n"
     ]
    },
    {
     "data": {
      "text/plain": [
       "0.8094567970728962"
      ]
     },
     "execution_count": 17,
     "metadata": {},
     "output_type": "execute_result"
    }
   ],
   "source": [
    "%time\n",
    "study.best_value"
   ]
  },
  {
   "cell_type": "code",
   "execution_count": 20,
   "metadata": {},
   "outputs": [],
   "source": [
    "start = time.time()"
   ]
  },
  {
   "cell_type": "code",
   "execution_count": 21,
   "metadata": {},
   "outputs": [],
   "source": [
    "end = time.time()"
   ]
  },
  {
   "cell_type": "code",
   "execution_count": 24,
   "metadata": {},
   "outputs": [
    {
     "data": {
      "text/plain": [
       "'8.97 sec'"
      ]
     },
     "execution_count": 24,
     "metadata": {},
     "output_type": "execute_result"
    }
   ],
   "source": [
    "f\"{end-start:.2f} sec\""
   ]
  },
  {
   "cell_type": "code",
   "execution_count": null,
   "metadata": {},
   "outputs": [],
   "source": []
  }
 ],
 "metadata": {
  "kernelspec": {
   "display_name": "hypershotgun",
   "language": "python",
   "name": "python3"
  },
  "language_info": {
   "codemirror_mode": {
    "name": "ipython",
    "version": 3
   },
   "file_extension": ".py",
   "mimetype": "text/x-python",
   "name": "python",
   "nbconvert_exporter": "python",
   "pygments_lexer": "ipython3",
   "version": "3.12.2"
  }
 },
 "nbformat": 4,
 "nbformat_minor": 2
}
