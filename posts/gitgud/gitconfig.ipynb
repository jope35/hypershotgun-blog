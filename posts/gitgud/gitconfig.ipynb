{
 "cells": [
  {
   "cell_type": "raw",
   "metadata": {
    "vscode": {
     "languageId": "raw"
    }
   },
   "source": [
    "---\n",
    "title: \"how to config Git\"\n",
    "author: \"Joost de Theije + LLM\"\n",
    "subtitle: \" \"\n",
    "date: \"04/23/2024\"\n",
    "image: \"artifacts/git.gif\"\n",
    "abstract: \" \"\n",
    "format:\n",
    "  html: default\n",
    "draft: true\n",
    "---"
   ]
  },
  {
   "cell_type": "markdown",
   "metadata": {},
   "source": [
    "# Git\n",
    "\n",
    "Git [everybodys](https://survey.stackoverflow.co/2022#section-version-control-version-control-systems) favorite version control that was released (checks notes) [19 years ago](https://en.wikipedia.org/wiki/Git) in 7 april 2005. that is some time ago.\n",
    "currently every developer is using git for one or more projects and/or organizations. in the modern days each and every own of those has some form of authentication or other requirements in order to work with it. i have seen some pretty wacky setup to control how git is being configured in order to streamline developer productivity and security.\n",
    "<br>\n",
    "and now i will introduce my wacky solution 😜\n"
   ]
  },
  {
   "cell_type": "markdown",
   "metadata": {},
   "source": [
    "## structure\n",
    "\n",
    "the structure that i use has the following files:\n",
    "\n",
    "- `.gitconfig`\n",
    "- `.gitconfig_github_personal`\n",
    "- `.gitconfig_github_work`\n",
    "- `.ssh/config`\n",
    "\n",
    "### `.gitconfig`\n",
    "\n",
    "```properties\n",
    "[user]\n",
    "\tuseConfigOnly = true\n",
    "\n",
    "[includeIf \"gitdir:~/Developer/github_personal/\"]\n",
    "\tpath =~/.gitconfig_github_personal\n",
    "```\n",
    "\n",
    "### `.gitconfig_github_personal`\n",
    "\n",
    "```properties\n",
    "[user]\n",
    "\tname=personal_name\n",
    "\temail= personal_email@example.com\n",
    "```\n",
    "\n",
    "### `.ssh/config`\n",
    "\n",
    "```properties\n",
    "Host github.com\n",
    "  Hostname github.com\n",
    "  User personal_name\n",
    "  IdentityFile ~/.ssh/personal_key\n",
    "```\n",
    "\n",
    "so far not to whack right? git uses the `.gitconfig` file to configure git and then only the actions in the folder `~/Developer/github_personal/` will use the `.gitconfig_github_personal` file, the ssh key is defined in the ssh config\n"
   ]
  },
  {
   "cell_type": "markdown",
   "metadata": {},
   "source": [
    "## structure\n",
    "\n",
    "the structure that i use has the following files:\n",
    "\n",
    "- `.gitconfig`\n",
    "- `.gitconfig_github_personal`\n",
    "- `.gitconfig_github_work`\n",
    "- `.ssh/config`\n",
    "\n",
    "### `.gitconfig`\n",
    "\n",
    "```properties\n",
    "[user]\n",
    "\tuseConfigOnly = true\n",
    "\n",
    "[includeIf \"gitdir:~/Developer/github_personal/\"]\n",
    "\tpath =~/.gitconfig_github_personal\n",
    "\n",
    "[includeIf \"gitdir:~/Developer/github_work/\"]\n",
    "\tpath =~/.gitconfig_github_work\n",
    "```\n",
    "\n",
    "### `.gitconfig_github_personal`\n",
    "\n",
    "```properties\n",
    "[user]\n",
    "\tname=personal_name\n",
    "\temail= personal_email@example.com\n",
    "```\n",
    "\n",
    "### `.gitconfig_github_work`\n",
    "\n",
    "```properties\n",
    "[user]\n",
    "\tname=work_name\n",
    "\temail= work@example.com\n",
    "\n",
    "[url \"git@github.com-work\"]\n",
    "\tinsteadOf = git@github.com\n",
    "```\n",
    "\n",
    "### `.ssh/config`\n",
    "\n",
    "```properties\n",
    "Host github.com\n",
    "  Hostname github.com\n",
    "  User personal_name\n",
    "  IdentityFile ~/.ssh/personal_key\n",
    "\n",
    "Host github.com-work\n",
    "  Hostname github.com\n",
    "  User work_name\n",
    "  IdentityFile ~/.ssh/work_key\n",
    "  AddKeysToAgent yes\n",
    "  UseKeychain yes\n",
    "\n",
    "```\n"
   ]
  },
  {
   "cell_type": "markdown",
   "metadata": {},
   "source": [
    "## bonus GPG signing\n",
    "\n",
    "how to gpg sign\n"
   ]
  }
 ],
 "metadata": {
  "kernelspec": {
   "display_name": "hyper",
   "language": "python",
   "name": "python3"
  },
  "language_info": {
   "name": "python",
   "version": "3.12.2"
  }
 },
 "nbformat": 4,
 "nbformat_minor": 2
}
