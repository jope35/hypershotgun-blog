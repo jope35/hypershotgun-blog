{
 "cells": [
  {
   "cell_type": "raw",
   "metadata": {},
   "source": [
    "---\n",
    "title: \"Cluster\"\n",
    "author: \"Joost de Theije + LLM\"\n",
    "subtitle: \"together\"\n",
    "date: \"2024-01-17\"\n",
    "image: \"artifacts/clumper.gif\"\n",
    "abstract: \" \" # hack to display no text in the listing page\n",
    "format:\n",
    "  html: default\n",
    "draft: true\n",
    "---"
   ]
  },
  {
   "cell_type": "markdown",
   "metadata": {},
   "source": [
    "## TLDR;\n",
    "\n",
    "- **Unsupervised Learning** -> Clustering algorithms are used for unsupervised learning, ideal for exploratory data analysis.\n",
    "- **Grouping Data** -> These algorithms group similar data into clusters based on specific criteria.\n",
    "- **Variety of Applications** -> They're used in diverse fields like customer segmentation, anomaly detection, and more.\n",
    "- **Different Techniques** -> Various types exist, like K-means and DBSCAN, each with unique strengths and suited for specific data types.\n",
    "- **Choice of Parameters** -> The selection and tuning of parameters, like the number of clusters, significantly influence the results.\n",
    "\n",
    "In the field of machine learning,clustering algorithms play a role in uncovering hidden patterns present in the data. they group together datapoints based on the simalirty of features without the need for labeled data, these groups are refered to as clusters.\n",
    "There are multiple algorithms that can be used to perform cluster analysis.\n",
    "\n",
    "- centroid based (K-means)\n",
    "- connectivity-based aka hierarchical clustering (Agglomerative lcustering)\n",
    "- distribution based (Gaussian-mixture modelling)\n",
    "- density based (DBSCAN)\n",
    "\n",
    "Clustering algorithms have found their place in a diverse range of real-world applications, from customer segmentation in marketing strategies to image segmentation in computer vision, and anomaly detection in cybersecurity for insightful data-driven decision making.\n",
    "\n",
    "To demonstrate the workflow, I will use a K-means clustering algorithm to group together similar shoppers at a shopping mall.\n"
   ]
  },
  {
   "cell_type": "markdown",
   "metadata": {},
   "source": [
    "## Business Problem Introduction\n",
    "\n",
    "As the owners of a thriving supermarket mall, you seek a deeper understanding of your customer base. Data points including demographics, spending habits, and loyalty program membership details are at your disposal. Your goal is to identify distinct groups within your customers to tailor marketing initiatives, thereby maximizing the efficiency of your promotional efforts.\n",
    "\n",
    "To achieve this, you opt for clustering algorithms to group similar customers based on characteristics and behaviors. By isolating specific segments of your customer base, you aim to tailor marketing strategies to respective subgroups, increasing the likelihood of a successful outcome and resulting in maximizing the bang for your marketing buck.\n"
   ]
  },
  {
   "cell_type": "markdown",
   "metadata": {},
   "source": [
    "## Data Preprocessing\n",
    "\n",
    "In this initial stage, the goal is to prepare the data for analysis. This involves cleaning the data by removing or filling in missing values, which could be done through various strategies like dropping the missing rows, filling them with mean/median/mode, or using a prediction model. It's also crucial to handle outliers and potentially normalize features if they're on different scales. This stage might also involve dealing with categorical variables using encoding techniques. Effective preprocessing is crucial for reliable results in the subsequent stages.\n",
    "\n",
    "the owner of the mall has provide the following [dataset](https://www.kaggle.com/datasets/vjchoudhary7/customer-segmentation-tutorial-in-python)\n",
    "\n",
    "| Field                  | Description                                                               |\n",
    "| ---------------------- | ------------------------------------------------------------------------- |\n",
    "| CustomerID             | Unique ID assigned to the customer                                        |\n",
    "| Gender                 | Gender of the customer                                                    |\n",
    "| Age                    | Age of the customer                                                       |\n",
    "| Annual Income (k$)     | Annual income of the customer                                             |\n",
    "| Spending Score (1-100) | Score assigned by the mall based on customer behavior and spending nature |\n"
   ]
  },
  {
   "cell_type": "code",
   "execution_count": null,
   "metadata": {},
   "outputs": [],
   "source": [
    "# imports\n",
    "import pandas as pd\n",
    "import seaborn as sns\n",
    "\n",
    "# setting global plotting settings\n",
    "# set_matplotlib_formats(\"svg\")\n",
    "sns.set_palette(\"tab10\")\n",
    "sns.set_style(\"darkgrid\")\n",
    "FIGSIZE = (12, 6)"
   ]
  },
  {
   "cell_type": "code",
   "execution_count": null,
   "metadata": {},
   "outputs": [],
   "source": [
    "# | code-fold: show\n",
    "\n",
    "\n",
    "# Load the customer dataset to analyze shopping patterns\n",
    "df_mall = pd.read_csv(\"artifacts/Mall_Customers.csv\")\n",
    "\n",
    "# rename columns to be lowercase, for easy typing\n",
    "df_mall = df_mall.rename(\n",
    "    columns={\n",
    "        \"CustomerID \": \"id\",\n",
    "        \"Gender \": \"gender\",\n",
    "        \"Age \": \"age\",\n",
    "        \"Annual Income (k$) \": \"income\",\n",
    "        \"Spending Score (1-100)\": \"spending\",\n",
    "    }\n",
    ")\n",
    "df_mall[\"gender\"] = df_mall[\"gender\"].str.lower()\n",
    "df_mall[\"gender\"] = df_mall[\"gender\"].str.strip()\n",
    "\n",
    "\n",
    "#\n",
    "print(f\"amount of NULL \\n{df_mall.isna().sum()} \\n\")\n",
    "\n",
    "# look at a random sample to validate the contents\n",
    "df_mall.sample(6)"
   ]
  },
  {
   "cell_type": "markdown",
   "metadata": {},
   "source": [
    "So, upon taking a look at the dataset, it seems like we've got a mix of numeric and non-numeric columns. Specifically, the `gender` column is the only non-numeric feature - it's all categorical data, with customers labeled as either \"Male\" or \"Female\". All the other columns - `id`, `age`, `income`, and `spending` - are numeric data types.\n",
    "\n",
    "The `id` column looks like it's just a unique identifier for each customer, so we can exclude that one from our feature set for clustering. Makes sense, right?\n",
    "\n",
    "Now, the other features need to be in the same ballpark (i.e., normalized) to work effectively with clustering algorithms. Otherwise, the algorithm will group together instances based on the features with the highest numbers, rather than looking at all the features. That'd be like trying to compare apples and oranges!\n",
    "\n",
    "So, we need to process the `gender` column by encoding those categories as numbers. One common way to do this is to map \"Male\" and \"Female\" to 1 and 0, respectively. Once we've done that, gender will be represented numerically like the other features.\n",
    "\n",
    "In a nutshell, we need to encode the gender categorical data, exclude the customer `id` column, and normalize the remaining columns before we can apply clustering algorithms. Luckily for us, there are no NULL values in the data, so we don't have to worry about dealing with those. Easy peasy!\n"
   ]
  },
  {
   "cell_type": "code",
   "execution_count": null,
   "metadata": {},
   "outputs": [],
   "source": [
    "# | code-fold: show\n",
    "\n",
    "# convert gender to a numerical value via one-hot-encoding\n",
    "# clustering models usally need numerical values\n",
    "df_mall = df_mall.assign(gender=df_mall[\"gender\"].map({\"male\": 1, \"female\": 0}))\n",
    "\n",
    "# list with features for easy reference\n",
    "features = [\"age\", \"income\", \"spending\", \"gender\"]\n",
    "df_feature = df_mall[features]\n",
    "\n",
    "\n",
    "# look at a random sample to validate the contents\n",
    "df_feature.sample(5)"
   ]
  },
  {
   "cell_type": "markdown",
   "metadata": {},
   "source": [
    "I used one-hot encoding to convert the string values of the gender column into numerical values, using the pandas map method in combination with a simple mapping of \"male\" to 1 and \"female\" to 0. This resulted in a new \"gender\" column with 0/1 encoding.\n",
    "The `id` column is dropped from the feature dataframe.\n"
   ]
  }
 ],
 "metadata": {
  "kernelspec": {
   "display_name": "python3",
   "language": "python",
   "name": "python3"
  },
  "language_info": {
   "codemirror_mode": {
    "name": "ipython",
    "version": 3
   },
   "file_extension": ".py",
   "mimetype": "text/x-python",
   "name": "python",
   "nbconvert_exporter": "python",
   "pygments_lexer": "ipython3",
   "version": "3.9.18"
  }
 },
 "nbformat": 4,
 "nbformat_minor": 4
}
