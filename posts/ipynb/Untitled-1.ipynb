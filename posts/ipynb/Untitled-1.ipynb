{
 "cells": [
  {
   "cell_type": "raw",
   "metadata": {},
   "source": [
    "---\n",
    "title: \"post with ipynb\"\n",
    "author: \"Joost de Theije\"\n",
    "date: \"2022-12-30\"\n",
    "image: \"image.jpg\"\n",
    "format: \n",
    "    html:\n",
    "        toc: true\n",
    "---"
   ]
  },
  {
   "cell_type": "markdown",
   "metadata": {},
   "source": [
    "## imports"
   ]
  },
  {
   "cell_type": "code",
   "execution_count": 6,
   "metadata": {},
   "outputs": [],
   "source": [
    "import matplotlib.pyplot as plt\n",
    "import pandas as pd\n",
    "import numpy as np\n",
    "\n",
    "plt.style.use('seaborn-darkgrid')"
   ]
  },
  {
   "attachments": {},
   "cell_type": "markdown",
   "metadata": {},
   "source": [
    "## print out"
   ]
  },
  {
   "cell_type": "code",
   "execution_count": 1,
   "metadata": {},
   "outputs": [
    {
     "name": "stdout",
     "output_type": "stream",
     "text": [
      "hello world\n"
     ]
    }
   ],
   "source": [
    "print('hello world')"
   ]
  },
  {
   "cell_type": "code",
   "execution_count": 9,
   "metadata": {},
   "outputs": [
    {
     "data": {
      "text/plain": [
       "[<matplotlib.lines.Line2D at 0x7fa1c882e760>]"
      ]
     },
     "execution_count": 9,
     "metadata": {},
     "output_type": "execute_result"
    },
    {
     "data": {
      "image/png": "[encoded data removed]",
      "text/plain": [
       "<Figure size 640x480 with 1 Axes>"
      ]
     },
     "metadata": {},
     "output_type": "display_data"
    }
   ],
   "source": [
    "#| fig-cap: \"A line plot on a cartesian axis\"\n",
    "\n",
    "all = np.linspace(0,1,10)\n",
    "plt.plot(all)\n"
   ]
  },
  {
   "attachments": {},
   "cell_type": "markdown",
   "metadata": {},
   "source": [
    "## Figures\n"
   ]
  },
  {
   "attachments": {},
   "cell_type": "markdown",
   "metadata": {},
   "source": [
    "this is some text in the cell\n"
   ]
  },
  {
   "cell_type": "code",
   "execution_count": 10,
   "metadata": {},
   "outputs": [
    {
     "data": {
      "text/html": [
       "<div>\n",
       "<style scoped>\n",
       "    .dataframe tbody tr th:only-of-type {\n",
       "        vertical-align: middle;\n",
       "    }\n",
       "\n",
       "    .dataframe tbody tr th {\n",
       "        vertical-align: top;\n",
       "    }\n",
       "\n",
       "    .dataframe thead th {\n",
       "        text-align: right;\n",
       "    }\n",
       "</style>\n",
       "<table border=\"1\" class=\"dataframe\">\n",
       "  <thead>\n",
       "    <tr style=\"text-align: right;\">\n",
       "      <th></th>\n",
       "      <th>0</th>\n",
       "    </tr>\n",
       "  </thead>\n",
       "  <tbody>\n",
       "    <tr>\n",
       "      <th>0</th>\n",
       "      <td>0.000000</td>\n",
       "    </tr>\n",
       "    <tr>\n",
       "      <th>1</th>\n",
       "      <td>0.111111</td>\n",
       "    </tr>\n",
       "    <tr>\n",
       "      <th>2</th>\n",
       "      <td>0.222222</td>\n",
       "    </tr>\n",
       "    <tr>\n",
       "      <th>3</th>\n",
       "      <td>0.333333</td>\n",
       "    </tr>\n",
       "    <tr>\n",
       "      <th>4</th>\n",
       "      <td>0.444444</td>\n",
       "    </tr>\n",
       "  </tbody>\n",
       "</table>\n",
       "</div>"
      ],
      "text/plain": [
       "          0\n",
       "0  0.000000\n",
       "1  0.111111\n",
       "2  0.222222\n",
       "3  0.333333\n",
       "4  0.444444"
      ]
     },
     "execution_count": 10,
     "metadata": {},
     "output_type": "execute_result"
    }
   ],
   "source": [
    "df_all = pd.DataFrame(all)\n",
    "df_all.head()"
   ]
  },
  {
   "attachments": {},
   "cell_type": "markdown",
   "metadata": {},
   "source": [
    "## lorem ipsum"
   ]
  },
  {
   "attachments": {},
   "cell_type": "markdown",
   "metadata": {},
   "source": [
    "\n",
    "\n",
    "Lorem ipsum dolor sit amet, consectetur adipiscing elit. Aliquam quis molestie velit. Pellentesque habitant morbi tristique senectus et netus et malesuada fames ac turpis egestas. Donec condimentum justo vitae dapibus aliquam. Curabitur pellentesque orci et sapien sodales, sed blandit dolor sagittis. Etiam gravida diam eget sapien viverra dapibus. In hac habitasse platea dictumst. Class aptent taciti sociosqu ad litora torquent per conubia nostra, per inceptos himenaeos. Fusce a massa turpis. Aenean egestas orci nunc, ac faucibus elit placerat vel. Lorem ipsum dolor sit amet, consectetur adipiscing elit.\n",
    "\n",
    "Nullam eget turpis ut odio tincidunt placerat at eget sem. Nunc ut nunc ultrices, suscipit mi eget, scelerisque lectus. Nam malesuada orci a ultrices aliquam. Vivamus bibendum elit sed mollis ultrices. Cras viverra elit id porta accumsan. Nulla vel dolor et quam venenatis mollis. Fusce at velit tempor, tincidunt orci vitae, consectetur mi. Etiam porttitor ante ipsum, sit amet commodo mi maximus sed. Nunc tincidunt urna quis enim auctor, a condimentum felis fermentum. Class aptent taciti sociosqu ad litora torquent per conubia nostra, per inceptos himenaeos.\n",
    "\n",
    "Cras placerat egestas nibh, sit amet molestie odio aliquet ac. Donec ut urna elementum, vulputate erat vel, tristique ante. Sed nec dui libero. Nulla scelerisque varius eleifend. Nullam non leo mattis, interdum orci ut, efficitur lorem. Duis et lacus quis erat hendrerit dapibus nec quis mi. Nunc mattis ornare dui non semper. Ut facilisis ac nulla nec aliquet. Praesent tristique lacinia aliquet.\n",
    "\n",
    "Phasellus fringilla quam ut nisl bibendum malesuada. Fusce mattis eu lacus nec fringilla. Quisque vitae erat dignissim, pulvinar turpis laoreet, ultricies est. Vestibulum dignissim at tortor aliquam volutpat. Pellentesque ultrices malesuada interdum. In auctor fermentum commodo. Aliquam molestie elementum mi. Aenean elit lorem, tristique ut mattis sed, vestibulum et ipsum. Suspendisse sed libero pharetra elit finibus viverra. In hac habitasse platea dictumst. In mollis bibendum dapibus. Vivamus nec nisl ligula. Cras malesuada facilisis odio sit amet congue. Pellentesque a dignissim enim, eu mattis velit.\n",
    "\n",
    "Suspendisse convallis, eros vitae dictum posuere, lorem tortor finibus lectus, nec eleifend ex justo non mauris. Proin dui magna, efficitur et leo eget, venenatis elementum sapien. Donec commodo nibh bibendum sagittis facilisis. Ut nec sollicitudin mi. Cras leo elit, viverra aliquet purus vitae, hendrerit cursus arcu. Fusce vehicula elementum nibh, vitae dapibus ligula viverra at. Interdum et malesuada fames ac ante ipsum primis in faucibus. Nulla suscipit augue sit amet lorem pulvinar tempor. Donec sit amet imperdiet lorem. Cras odio lectus, pellentesque sit amet turpis et, aliquam facilisis quam. Mauris cursus fringilla sapien quis condimentum. Aenean venenatis vestibulum luctus. Praesent viverra velit eget tortor fermentum, sit amet malesuada ipsum tempus. Mauris in lorem ultricies mi efficitur posuere non eget felis. Sed efficitur lacinia nisi, quis semper ante pretium in. Sed arcu nunc, posuere eu ante a, tincidunt aliquam mauris.\n",
    "\n",
    "Nunc vehicula sollicitudin iaculis. Nulla eu metus ac eros tincidunt ornare et finibus mauris. Ut commodo elit sit amet enim ornare, non gravida ligula finibus. Aliquam semper molestie sapien, et mattis neque laoreet eu. Donec cursus sapien ut enim iaculis, id porta libero ultrices. Nunc non dignissim arcu. Aenean porta turpis ipsum, at facilisis ante dapibus in. Nulla cursus, elit id imperdiet pretium, nibh nisi feugiat erat, sed semper risus lorem eu odio.\n",
    "\n",
    "Nullam eu semper libero. In hac habitasse platea dictumst. Mauris a justo vitae magna commodo sodales. In semper rhoncus magna, ac cursus ex hendrerit dapibus. Sed feugiat ipsum in felis fermentum semper vel quis nisi. Suspendisse dictum ante nisi, vel tincidunt est luctus sit amet. Etiam tristique maximus lectus id dignissim. Vestibulum vulputate lobortis venenatis. Ut molestie vitae sem id ultricies. Ut feugiat posuere metus, quis consequat metus maximus ac. Nunc sapien felis, tincidunt nec efficitur sit amet, volutpat eu dui. Aliquam erat volutpat.\n",
    "\n",
    "Donec a elit pretium, auctor turpis eget, placerat mi. Nullam nec consequat turpis. Curabitur leo turpis, varius in aliquet nec, suscipit et ex. Aliquam ut pellentesque ex. Proin vel velit vitae elit volutpat convallis. Nam rutrum lacinia eros. Class aptent taciti sociosqu ad litora torquent per conubia nostra, per inceptos himenaeos. Integer et placerat diam. Morbi et fringilla urna. Phasellus feugiat pharetra nulla a sollicitudin. Duis eget mollis mauris, sollicitudin rutrum odio. Duis lobortis vestibulum diam a vehicula. Nullam eget pulvinar leo, nec pharetra ligula. Integer condimentum libero metus, a consequat metus accumsan at. Donec laoreet metus non maximus fermentum.\n",
    "\n",
    "Aliquam erat volutpat. Aliquam ornare ante mi, eget lacinia nunc ultrices quis. Morbi suscipit, justo eget vehicula sagittis, nibh lorem finibus arcu, ut efficitur lorem ante accumsan magna. Proin eget dui pellentesque, gravida orci viverra, vestibulum sem. Cras scelerisque tincidunt nunc, in egestas augue semper in. Nunc sapien neque, consequat et pretium nec, imperdiet ornare quam. Morbi sem mi, fermentum sit amet sem non, dictum ullamcorper quam. Etiam scelerisque porttitor quam vitae cursus. Suspendisse quis est ac erat scelerisque dignissim. Aliquam at neque dolor. Vestibulum venenatis enim et mauris imperdiet, sed imperdiet enim euismod. Sed leo nisi, mattis nec iaculis ac, rhoncus non est. Sed quis mauris sit amet massa tempor iaculis ac in nibh. Nam sit amet nisl vel turpis malesuada ultrices a et turpis.\n",
    "\n",
    "Mauris vulputate, felis vehicula pretium dictum, nisl dui placerat nisl, non accumsan urna justo et felis. Cras finibus aliquet sem, et hendrerit leo ornare nec. Cras in nisl quis ante pellentesque dapibus vitae at lorem. Vestibulum mauris felis, commodo et viverra quis, sollicitudin vitae urna. Sed est ligula, aliquam id molestie nec, tempor eget turpis. Phasellus lacinia libero et magna lacinia, fringilla ultricies odio malesuada. Donec congue dapibus neque vel semper. Phasellus quis odio faucibus, hendrerit sem sit amet, finibus quam. Nunc laoreet consequat purus, id elementum ipsum auctor id.\n",
    "\n",
    "Nulla facilisi. Vestibulum ante ipsum primis in faucibus orci luctus et ultrices posuere cubilia curae; Vivamus finibus scelerisque ante, nec dignissim libero fermentum a. Curabitur eu ipsum ex. Sed et imperdiet diam. Curabitur aliquet molestie erat, sit amet iaculis velit tincidunt sit amet. Duis varius nisl vitae urna tincidunt dignissim. Duis venenatis, augue vitae rutrum blandit, ipsum ipsum semper erat, eu rutrum felis felis et odio. Morbi quis ornare neque. Aenean tortor mi, luctus eget dui a, gravida fermentum elit. Maecenas sollicitudin pretium augue, eu blandit leo ultrices non. Ut consectetur, mi sit amet hendrerit ultricies, ex lorem cursus elit, nec euismod lacus mi ut diam.\n",
    "\n",
    "Nam maximus convallis ultricies. Vestibulum metus ligula, lacinia sit amet ullamcorper ac, ullamcorper eu augue. Donec pharetra volutpat porta. Aenean nec est eu lacus varius efficitur at sed dolor. Pellentesque porttitor, arcu ac rutrum volutpat, ipsum turpis sagittis dolor, ut tincidunt metus ipsum nec erat. Cras eu ornare lacus. Vivamus ex est, semper sit amet ultrices ut, aliquam sit amet lorem. Quisque posuere diam vitae cursus placerat. Aenean sit amet mi tempus, interdum neque fermentum, egestas est. Nulla consectetur, turpis ac mollis gravida, ligula tortor dapibus arcu, vitae interdum turpis arcu sit amet massa. In varius nibh vitae neque gravida volutpat. Suspendisse in lectus mollis, semper purus a, hendrerit tellus. Morbi vel nunc interdum, consectetur nulla eget, aliquet magna.\n",
    "\n",
    "Nulla sagittis placerat dapibus. Nulla porttitor sagittis egestas. Orci varius natoque penatibus et magnis dis parturient montes, nascetur ridiculus mus. Donec euismod, lacus pellentesque tempor rhoncus, nulla massa tincidunt nulla, id viverra sem tortor quis odio. Phasellus eu laoreet risus. Nunc ultrices, nisl ac volutpat vehicula, nisl massa consectetur nulla, non dapibus mauris nulla ut nisi. Duis ut justo viverra, pulvinar ex sed, faucibus purus. Donec dapibus nisl ac dictum aliquet. Ut venenatis, nibh eget pulvinar tempus, augue sem placerat odio, ac semper diam enim quis eros. Sed in neque sed magna maximus rhoncus. Aliquam sapien nisl, commodo quis faucibus at, aliquam sit amet nisi. Aenean lacinia mattis nulla vitae dictum. Donec sollicitudin tincidunt dui, a varius augue tempus sit amet. Nulla sed sollicitudin velit. Nullam quis diam quis ligula iaculis aliquet.\n",
    "\n",
    "Praesent mattis semper metus sit amet sagittis. In erat metus, maximus et ligula sit amet, semper porta ligula. Proin vitae mi elit. Donec malesuada mi sollicitudin nisl accumsan facilisis. Morbi consectetur urna eu ligula fermentum, id tempus orci tempor. Ut ligula massa, dapibus id felis in, rhoncus porttitor neque. Pellentesque massa odio, sollicitudin id varius quis, ultrices eu lacus. Morbi aliquam arcu mi, at volutpat nibh eleifend ac. Sed non pharetra diam, vel fringilla est. Vestibulum id lorem diam. Nulla laoreet, urna id lobortis facilisis, neque quam lobortis urna, eu aliquet mi arcu quis orci.\n",
    "\n",
    "Nullam lectus nunc, tristique et tincidunt vel, varius maximus orci. Morbi suscipit iaculis condimentum. Praesent pharetra iaculis sapien, vitae rhoncus massa varius id. Vestibulum id blandit diam. Curabitur blandit, magna id molestie eleifend, quam nulla feugiat metus, ac condimentum lorem lacus sed nisl. Ut quis vestibulum dui. Aliquam magna purus, efficitur vitae dignissim vitae, pharetra id ante. Morbi tortor quam, euismod nec faucibus vitae, tristique eget nisi.\n",
    "\n",
    "Sed ultricies ac augue quis pulvinar. Sed eget nulla aliquet, accumsan magna eu, lobortis magna. Aenean a sapien eget ante maximus commodo. Class aptent taciti sociosqu ad litora torquent per conubia nostra, per inceptos himenaeos. Integer vitae sem eros. Integer convallis vehicula tempor. Phasellus quis dapibus quam. Maecenas nec rhoncus arcu. Nunc porttitor imperdiet dui eu venenatis. Phasellus dapibus non ligula porta finibus. Suspendisse vulputate sollicitudin diam, bibendum aliquet augue mollis pharetra. Sed nec nulla sed ante ornare placerat.\n",
    "\n",
    "Vestibulum ante ipsum primis in faucibus orci luctus et ultrices posuere cubilia curae; Maecenas nec pulvinar massa. Fusce ac tristique nunc, ut feugiat massa. Nullam accumsan libero ac ullamcorper gravida. Nunc sit amet pulvinar orci. Aliquam posuere dui enim, vel volutpat ex tincidunt vulputate. Phasellus elementum molestie euismod. Nulla id ex turpis.\n",
    "\n",
    "Suspendisse ut vulputate lectus. Sed id magna ac lorem tristique blandit eu at orci. Morbi ac nulla lacinia, congue augue sit amet, convallis lectus. Vestibulum mollis accumsan turpis, ac finibus urna vulputate ac. Nunc imperdiet turpis at elit vehicula fringilla. Phasellus placerat convallis leo, faucibus consectetur lorem. Cras non aliquam lectus. Nam nibh ex, gravida non congue in, pulvinar ut ipsum.\n",
    "\n",
    "Aliquam massa ex, lacinia mattis rutrum non, tincidunt at nibh. Vestibulum nec dolor euismod, pulvinar libero sed, porta sapien. Aenean ullamcorper et nibh a sollicitudin. Integer porttitor velit et sem volutpat eleifend. Praesent mollis ultrices risus, at varius sem semper ac. Aliquam quis est ut urna varius dictum tincidunt et leo. Sed id justo quis enim lacinia lacinia. In vel magna et nulla aliquet mollis quis nec nunc. Integer venenatis orci ut mauris gravida feugiat. Vestibulum malesuada augue augue, vel volutpat arcu tincidunt vitae. In lobortis odio ac est rhoncus venenatis. Vivamus mollis risus eu velit semper mattis. Mauris nec augue dignissim, ultrices ligula sed, imperdiet ex. In hac habitasse platea dictumst.\n",
    "\n",
    "Vestibulum posuere augue non maximus vulputate. Vestibulum bibendum neque at lorem posuere ornare. Mauris pretium elit a nibh egestas, vel elementum dolor convallis. Mauris varius felis ut nulla dictum, eget bibendum orci venenatis. Proin neque erat, rutrum ac pellentesque eu, dapibus vel enim. Integer sed mi porta sem consectetur condimentum id eu nibh. Integer in sodales diam. Vestibulum aliquet tincidunt justo, at tincidunt massa placerat in. Mauris ante nunc, tempus in lectus sed, placerat scelerisque dui. Nulla non erat ut quam eleifend pulvinar sed vitae purus. Suspendisse consequat, felis vel sollicitudin dictum, nunc ligula facilisis ex, gravida ultricies diam dui sed risus. Sed vulputate purus ac eros posuere, ut faucibus magna venenatis. Duis blandit nulla id feugiat ultricies. Mauris felis lorem, fermentum eget odio sit amet, sollicitudin auctor elit. Sed non feugiat leo, non dapibus massa. Vestibulum pellentesque leo eget nulla rutrum volutpat. "
   ]
  }
 ],
 "metadata": {
  "kernelspec": {
   "display_name": "pm",
   "language": "python",
   "name": "python3"
  },
  "language_info": {
   "codemirror_mode": {
    "name": "ipython",
    "version": 3
   },
   "file_extension": ".py",
   "mimetype": "text/x-python",
   "name": "python",
   "nbconvert_exporter": "python",
   "pygments_lexer": "ipython3",
   "version": "3.8.10 (default, May 19 2021, 11:01:55) \n[Clang 10.0.0 ]"
  },
  "orig_nbformat": 4,
  "vscode": {
   "interpreter": {
    "hash": "d7e6391f80ad5bc4d2ec8f3edc8b57358efaa8f2fe4cfe80de4803cf2e53faa2"
   }
  }
 },
 "nbformat": 4,
 "nbformat_minor": 2
}
