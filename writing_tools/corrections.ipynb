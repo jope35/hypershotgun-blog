{
 "cells": [
  {
   "cell_type": "code",
   "execution_count": null,
   "metadata": {},
   "outputs": [],
   "source": [
    "import json\n",
    "\n",
    "import ollama\n",
    "from tqdm.notebook import tqdm"
   ]
  },
  {
   "cell_type": "code",
   "execution_count": null,
   "metadata": {},
   "outputs": [],
   "source": [
    "with open(\"../posts/cluster/cluster_reflect.ipynb\") as file:\n",
    "    notebook = json.load(file)"
   ]
  },
  {
   "cell_type": "code",
   "execution_count": null,
   "metadata": {},
   "outputs": [],
   "source": [
    "instruction = \"Your job: \\\n",
    "- Improve grammar and language \\\n",
    "- fix errors \\\n",
    "- cut the clutter \\\n",
    "- but keep tone and voice \\\n",
    "- don't change markdown syntax, \\\n",
    "- rephrase for easier reading \\\n",
    "- limit the use of emoji \\\n",
    "- never cut jokes \\\n",
    "- only return the corrected text, no summaries of changes or list of improvements\""
   ]
  },
  {
   "cell_type": "code",
   "execution_count": null,
   "metadata": {},
   "outputs": [],
   "source": [
    "for cell in tqdm(notebook[\"cells\"]):\n",
    "    # print(cell[\"cell_type\"])\n",
    "    if cell[\"cell_type\"] == \"markdown\":\n",
    "        print(\"-\" * 6)\n",
    "        print(cell[\"source\"])\n",
    "\n",
    "        response = ollama.generate(\n",
    "            model=\"phi\",\n",
    "            system=instruction,\n",
    "            prompt=\" \".join(cell[\"source\"]),\n",
    "            keep_alive=\"5m\",\n",
    "        )\n",
    "\n",
    "        cell[\"source\"].append(\"--- \\n \" + response[\"response\"])"
   ]
  },
  {
   "cell_type": "code",
   "execution_count": null,
   "metadata": {},
   "outputs": [],
   "source": [
    "with open(\"../posts/cluster/cluster_reflect.ipynb\", mode=\"w\") as output_file:\n",
    "    json.dump(notebook, output_file)"
   ]
  },
  {
   "cell_type": "code",
   "execution_count": null,
   "metadata": {},
   "outputs": [],
   "source": []
  }
 ],
 "metadata": {
  "kernelspec": {
   "display_name": "hypershotgun",
   "language": "python",
   "name": "python3"
  },
  "language_info": {
   "codemirror_mode": {
    "name": "ipython",
    "version": 3
   },
   "file_extension": ".py",
   "mimetype": "text/x-python",
   "name": "python",
   "nbconvert_exporter": "python",
   "pygments_lexer": "ipython3",
   "version": "3.9.18"
  }
 },
 "nbformat": 4,
 "nbformat_minor": 2
}
